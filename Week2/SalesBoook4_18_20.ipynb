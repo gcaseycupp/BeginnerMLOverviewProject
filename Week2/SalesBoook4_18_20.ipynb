{
  "nbformat": 4,
  "nbformat_minor": 0,
  "metadata": {
    "colab": {
      "name": "SalesBoook4-18-20.ipynb",
      "provenance": [],
      "collapsed_sections": []
    },
    "kernelspec": {
      "name": "python3",
      "display_name": "Python 3"
    }
  },
  "cells": [
    {
      "cell_type": "code",
      "metadata": {
        "id": "bExdZR5g7pN5",
        "colab_type": "code",
        "outputId": "c0185a6e-89a7-446a-a926-b41e2957f6d8",
        "colab": {
          "base_uri": "https://localhost:8080/",
          "height": 34
        }
      },
      "source": [
        "print('Hello World')"
      ],
      "execution_count": 28,
      "outputs": [
        {
          "output_type": "stream",
          "text": [
            "Hello World\n"
          ],
          "name": "stdout"
        }
      ]
    },
    {
      "cell_type": "code",
      "metadata": {
        "id": "RhD-CaDI78X2",
        "colab_type": "code",
        "colab": {}
      },
      "source": [
        "#For Python"
      ],
      "execution_count": 0,
      "outputs": []
    },
    {
      "cell_type": "markdown",
      "metadata": {
        "id": "6L3-2kUL79kl",
        "colab_type": "text"
      },
      "source": [
        "\n",
        "\n",
        "**This is a markdown cell, not a code cell**\n",
        "\n",
        "---\n",
        "\n",
        "\n",
        "<br>\n",
        "Almost all Jupyter type notebooks allow for both inline.<br>\n",
        "If you make a change in an upper cell. The lower cells will not be aware of those changes, unless you re-run the upper cells.<br>\n",
        "\n",
        "Python does not use semicolons for statement delimiters<br>\n",
        "Python uses spaces instead of curly braces for block scoping<br><br>\n",
        "Python is a core language but is very reliant on third party libraries for ML.<br>\n",
        "Most commonly used 3rd Party libraries are:<br>\n",
        "* Numpy - Arrays (can be multidimensional) \n",
        "* Pandas - DataFrame 2d data table object \n",
        "* os - OS\n",
        "* matplotlib - Plotting\n",
        "* seaport - Plotting\n",
        "* scikit-learn - Machine Learning\n",
        "\n",
        "for speed, you can import specific classes of large libraries. \n",
        "You will see us do that with scikit-learn<br><br>\n",
        "*One confusing thing for me about Jupyter Cells* <br>\n",
        "'Enter' creates a new line. <br>\n",
        "'Shift'-'Enter' moves out of the line and runs it. <br>\n",
        "The opposite of spreadsheets"
      ]
    },
    {
      "cell_type": "code",
      "metadata": {
        "id": "-yLcrUs68GXU",
        "colab_type": "code",
        "colab": {}
      },
      "source": [
        "import pandas as pd                 # pandas is a dataframe library\n",
        "import matplotlib.pyplot as plt      # matplotlib.pyplot plots data\n",
        "import os\n",
        "\n",
        "%matplotlib inline"
      ],
      "execution_count": 0,
      "outputs": []
    },
    {
      "cell_type": "code",
      "metadata": {
        "id": "8toRrWiA8W8f",
        "colab_type": "code",
        "outputId": "6231a1df-43c2-4920-f514-2809ad3c2faf",
        "colab": {
          "base_uri": "https://localhost:8080/",
          "height": 374
        }
      },
      "source": [
        "import os\n",
        "for dirname, _, filenames in os.walk('/content'):\n",
        "    for filename in filenames:\n",
        "        print(os.path.join(dirname, filename))"
      ],
      "execution_count": 31,
      "outputs": [
        {
          "output_type": "stream",
          "text": [
            "/content/ML2TestFinalData4-18-2020.csv\n",
            "/content/.config/.last_survey_prompt.yaml\n",
            "/content/.config/gce\n",
            "/content/.config/.last_opt_in_prompt.yaml\n",
            "/content/.config/.last_update_check.json\n",
            "/content/.config/config_sentinel\n",
            "/content/.config/active_config\n",
            "/content/.config/.metricsUUID\n",
            "/content/.config/logs/2020.04.03/16.24.26.990500.log\n",
            "/content/.config/logs/2020.04.03/16.23.40.043713.log\n",
            "/content/.config/logs/2020.04.03/16.24.13.655529.log\n",
            "/content/.config/logs/2020.04.03/16.24.09.722063.log\n",
            "/content/.config/logs/2020.04.03/16.24.26.483358.log\n",
            "/content/.config/logs/2020.04.03/16.23.57.403439.log\n",
            "/content/.config/configurations/config_default\n",
            "/content/sample_data/README.md\n",
            "/content/sample_data/anscombe.json\n",
            "/content/sample_data/mnist_train_small.csv\n",
            "/content/sample_data/california_housing_train.csv\n",
            "/content/sample_data/mnist_test.csv\n",
            "/content/sample_data/california_housing_test.csv\n"
          ],
          "name": "stdout"
        }
      ]
    },
    {
      "cell_type": "code",
      "metadata": {
        "id": "NCfus7qX8Vco",
        "colab_type": "code",
        "outputId": "b86e6682-609b-441e-fb99-57be522d0477",
        "colab": {
          "base_uri": "https://localhost:8080/",
          "height": 204
        }
      },
      "source": [
        "#LOAD OUR DATE \n",
        "#read in CSV File \n",
        "import pandas as pd\n",
        "filename = \"/content/ML2TestFinalData4-18-2020.csv\"\n",
        "df = pd.read_csv(filename)\n",
        "df.head()"
      ],
      "execution_count": 32,
      "outputs": [
        {
          "output_type": "execute_result",
          "data": {
            "text/html": [
              "<div>\n",
              "<style scoped>\n",
              "    .dataframe tbody tr th:only-of-type {\n",
              "        vertical-align: middle;\n",
              "    }\n",
              "\n",
              "    .dataframe tbody tr th {\n",
              "        vertical-align: top;\n",
              "    }\n",
              "\n",
              "    .dataframe thead th {\n",
              "        text-align: right;\n",
              "    }\n",
              "</style>\n",
              "<table border=\"1\" class=\"dataframe\">\n",
              "  <thead>\n",
              "    <tr style=\"text-align: right;\">\n",
              "      <th></th>\n",
              "      <th>NBHD</th>\n",
              "      <th>LIVEAREA</th>\n",
              "      <th>FINBSMNT</th>\n",
              "      <th>BASEMENT</th>\n",
              "      <th>CONDITION</th>\n",
              "      <th>CONDITION_ADJ</th>\n",
              "      <th>QUALITY</th>\n",
              "      <th>NOCARS</th>\n",
              "      <th>NUMBDRM</th>\n",
              "      <th>NUMBATHS</th>\n",
              "      <th>NETPRICE</th>\n",
              "    </tr>\n",
              "  </thead>\n",
              "  <tbody>\n",
              "    <tr>\n",
              "      <th>0</th>\n",
              "      <td>715</td>\n",
              "      <td>2558</td>\n",
              "      <td>0</td>\n",
              "      <td>0</td>\n",
              "      <td>Good</td>\n",
              "      <td>1</td>\n",
              "      <td>B</td>\n",
              "      <td>0</td>\n",
              "      <td>2</td>\n",
              "      <td>3</td>\n",
              "      <td>1025000</td>\n",
              "    </tr>\n",
              "    <tr>\n",
              "      <th>1</th>\n",
              "      <td>711</td>\n",
              "      <td>3176</td>\n",
              "      <td>250</td>\n",
              "      <td>313</td>\n",
              "      <td>Good</td>\n",
              "      <td>1</td>\n",
              "      <td>B</td>\n",
              "      <td>5</td>\n",
              "      <td>4</td>\n",
              "      <td>3</td>\n",
              "      <td>852000</td>\n",
              "    </tr>\n",
              "    <tr>\n",
              "      <th>2</th>\n",
              "      <td>712</td>\n",
              "      <td>3179</td>\n",
              "      <td>1474</td>\n",
              "      <td>1972</td>\n",
              "      <td>AVG</td>\n",
              "      <td>0</td>\n",
              "      <td>B</td>\n",
              "      <td>2</td>\n",
              "      <td>4</td>\n",
              "      <td>4</td>\n",
              "      <td>730611</td>\n",
              "    </tr>\n",
              "    <tr>\n",
              "      <th>3</th>\n",
              "      <td>713</td>\n",
              "      <td>2291</td>\n",
              "      <td>2176</td>\n",
              "      <td>2291</td>\n",
              "      <td>Good</td>\n",
              "      <td>1</td>\n",
              "      <td>B</td>\n",
              "      <td>2</td>\n",
              "      <td>2</td>\n",
              "      <td>3</td>\n",
              "      <td>675000</td>\n",
              "    </tr>\n",
              "    <tr>\n",
              "      <th>4</th>\n",
              "      <td>713</td>\n",
              "      <td>2740</td>\n",
              "      <td>1020</td>\n",
              "      <td>1396</td>\n",
              "      <td>Good</td>\n",
              "      <td>1</td>\n",
              "      <td>B</td>\n",
              "      <td>2</td>\n",
              "      <td>3</td>\n",
              "      <td>4</td>\n",
              "      <td>655000</td>\n",
              "    </tr>\n",
              "  </tbody>\n",
              "</table>\n",
              "</div>"
            ],
            "text/plain": [
              "   NBHD  LIVEAREA  FINBSMNT  BASEMENT  ... NOCARS  NUMBDRM NUMBATHS  NETPRICE\n",
              "0   715      2558         0         0  ...      0        2        3   1025000\n",
              "1   711      3176       250       313  ...      5        4        3    852000\n",
              "2   712      3179      1474      1972  ...      2        4        4    730611\n",
              "3   713      2291      2176      2291  ...      2        2        3    675000\n",
              "4   713      2740      1020      1396  ...      2        3        4    655000\n",
              "\n",
              "[5 rows x 11 columns]"
            ]
          },
          "metadata": {
            "tags": []
          },
          "execution_count": 32
        }
      ]
    },
    {
      "cell_type": "code",
      "metadata": {
        "id": "JXxqxxVr8MP2",
        "colab_type": "code",
        "outputId": "cfc501eb-1c04-46cf-9d4b-51d8f0c4ddab",
        "colab": {
          "base_uri": "https://localhost:8080/",
          "height": 34
        }
      },
      "source": [
        "#REVIEW OUR DATA\n",
        "df.shape"
      ],
      "execution_count": 33,
      "outputs": [
        {
          "output_type": "execute_result",
          "data": {
            "text/plain": [
              "(285, 11)"
            ]
          },
          "metadata": {
            "tags": []
          },
          "execution_count": 33
        }
      ]
    },
    {
      "cell_type": "code",
      "metadata": {
        "id": "uLIwri1X9INy",
        "colab_type": "code",
        "outputId": "678a8d6b-328b-4f08-849b-1942f0f59882",
        "colab": {
          "base_uri": "https://localhost:8080/",
          "height": 221
        }
      },
      "source": [
        "df.isnull().any()"
      ],
      "execution_count": 34,
      "outputs": [
        {
          "output_type": "execute_result",
          "data": {
            "text/plain": [
              "NBHD             False\n",
              "LIVEAREA         False\n",
              "FINBSMNT         False\n",
              "BASEMENT         False\n",
              "CONDITION        False\n",
              "CONDITION_ADJ    False\n",
              "QUALITY          False\n",
              "NOCARS           False\n",
              "NUMBDRM          False\n",
              "NUMBATHS         False\n",
              "NETPRICE         False\n",
              "dtype: bool"
            ]
          },
          "metadata": {
            "tags": []
          },
          "execution_count": 34
        }
      ]
    },
    {
      "cell_type": "code",
      "metadata": {
        "id": "E-1K4_D99Kf1",
        "colab_type": "code",
        "outputId": "85d736f7-8170-4054-e64f-7da1979b25b1",
        "colab": {
          "base_uri": "https://localhost:8080/",
          "height": 328
        }
      },
      "source": [
        "#for Jared :) This is before we do any machine learning, so it may very well be that a column doesn't look important but is, in conjunction with another column\n",
        "df.corr()"
      ],
      "execution_count": 35,
      "outputs": [
        {
          "output_type": "execute_result",
          "data": {
            "text/html": [
              "<div>\n",
              "<style scoped>\n",
              "    .dataframe tbody tr th:only-of-type {\n",
              "        vertical-align: middle;\n",
              "    }\n",
              "\n",
              "    .dataframe tbody tr th {\n",
              "        vertical-align: top;\n",
              "    }\n",
              "\n",
              "    .dataframe thead th {\n",
              "        text-align: right;\n",
              "    }\n",
              "</style>\n",
              "<table border=\"1\" class=\"dataframe\">\n",
              "  <thead>\n",
              "    <tr style=\"text-align: right;\">\n",
              "      <th></th>\n",
              "      <th>NBHD</th>\n",
              "      <th>LIVEAREA</th>\n",
              "      <th>FINBSMNT</th>\n",
              "      <th>BASEMENT</th>\n",
              "      <th>CONDITION_ADJ</th>\n",
              "      <th>NOCARS</th>\n",
              "      <th>NUMBDRM</th>\n",
              "      <th>NUMBATHS</th>\n",
              "      <th>NETPRICE</th>\n",
              "    </tr>\n",
              "  </thead>\n",
              "  <tbody>\n",
              "    <tr>\n",
              "      <th>NBHD</th>\n",
              "      <td>1.000000</td>\n",
              "      <td>0.061472</td>\n",
              "      <td>-0.211152</td>\n",
              "      <td>-0.296919</td>\n",
              "      <td>-0.086730</td>\n",
              "      <td>0.004377</td>\n",
              "      <td>0.254781</td>\n",
              "      <td>-0.047021</td>\n",
              "      <td>-0.127704</td>\n",
              "    </tr>\n",
              "    <tr>\n",
              "      <th>LIVEAREA</th>\n",
              "      <td>0.061472</td>\n",
              "      <td>1.000000</td>\n",
              "      <td>0.072939</td>\n",
              "      <td>0.231224</td>\n",
              "      <td>0.216803</td>\n",
              "      <td>0.350102</td>\n",
              "      <td>0.525849</td>\n",
              "      <td>0.592913</td>\n",
              "      <td>0.534935</td>\n",
              "    </tr>\n",
              "    <tr>\n",
              "      <th>FINBSMNT</th>\n",
              "      <td>-0.211152</td>\n",
              "      <td>0.072939</td>\n",
              "      <td>1.000000</td>\n",
              "      <td>0.755823</td>\n",
              "      <td>0.157817</td>\n",
              "      <td>0.482032</td>\n",
              "      <td>0.208100</td>\n",
              "      <td>0.569808</td>\n",
              "      <td>0.259089</td>\n",
              "    </tr>\n",
              "    <tr>\n",
              "      <th>BASEMENT</th>\n",
              "      <td>-0.296919</td>\n",
              "      <td>0.231224</td>\n",
              "      <td>0.755823</td>\n",
              "      <td>1.000000</td>\n",
              "      <td>0.034549</td>\n",
              "      <td>0.666091</td>\n",
              "      <td>0.306972</td>\n",
              "      <td>0.571467</td>\n",
              "      <td>0.315914</td>\n",
              "    </tr>\n",
              "    <tr>\n",
              "      <th>CONDITION_ADJ</th>\n",
              "      <td>-0.086730</td>\n",
              "      <td>0.216803</td>\n",
              "      <td>0.157817</td>\n",
              "      <td>0.034549</td>\n",
              "      <td>1.000000</td>\n",
              "      <td>0.049501</td>\n",
              "      <td>0.039391</td>\n",
              "      <td>0.191101</td>\n",
              "      <td>0.282759</td>\n",
              "    </tr>\n",
              "    <tr>\n",
              "      <th>NOCARS</th>\n",
              "      <td>0.004377</td>\n",
              "      <td>0.350102</td>\n",
              "      <td>0.482032</td>\n",
              "      <td>0.666091</td>\n",
              "      <td>0.049501</td>\n",
              "      <td>1.000000</td>\n",
              "      <td>0.643159</td>\n",
              "      <td>0.610915</td>\n",
              "      <td>0.218027</td>\n",
              "    </tr>\n",
              "    <tr>\n",
              "      <th>NUMBDRM</th>\n",
              "      <td>0.254781</td>\n",
              "      <td>0.525849</td>\n",
              "      <td>0.208100</td>\n",
              "      <td>0.306972</td>\n",
              "      <td>0.039391</td>\n",
              "      <td>0.643159</td>\n",
              "      <td>1.000000</td>\n",
              "      <td>0.544765</td>\n",
              "      <td>0.160514</td>\n",
              "    </tr>\n",
              "    <tr>\n",
              "      <th>NUMBATHS</th>\n",
              "      <td>-0.047021</td>\n",
              "      <td>0.592913</td>\n",
              "      <td>0.569808</td>\n",
              "      <td>0.571467</td>\n",
              "      <td>0.191101</td>\n",
              "      <td>0.610915</td>\n",
              "      <td>0.544765</td>\n",
              "      <td>1.000000</td>\n",
              "      <td>0.390439</td>\n",
              "    </tr>\n",
              "    <tr>\n",
              "      <th>NETPRICE</th>\n",
              "      <td>-0.127704</td>\n",
              "      <td>0.534935</td>\n",
              "      <td>0.259089</td>\n",
              "      <td>0.315914</td>\n",
              "      <td>0.282759</td>\n",
              "      <td>0.218027</td>\n",
              "      <td>0.160514</td>\n",
              "      <td>0.390439</td>\n",
              "      <td>1.000000</td>\n",
              "    </tr>\n",
              "  </tbody>\n",
              "</table>\n",
              "</div>"
            ],
            "text/plain": [
              "                   NBHD  LIVEAREA  FINBSMNT  ...   NUMBDRM  NUMBATHS  NETPRICE\n",
              "NBHD           1.000000  0.061472 -0.211152  ...  0.254781 -0.047021 -0.127704\n",
              "LIVEAREA       0.061472  1.000000  0.072939  ...  0.525849  0.592913  0.534935\n",
              "FINBSMNT      -0.211152  0.072939  1.000000  ...  0.208100  0.569808  0.259089\n",
              "BASEMENT      -0.296919  0.231224  0.755823  ...  0.306972  0.571467  0.315914\n",
              "CONDITION_ADJ -0.086730  0.216803  0.157817  ...  0.039391  0.191101  0.282759\n",
              "NOCARS         0.004377  0.350102  0.482032  ...  0.643159  0.610915  0.218027\n",
              "NUMBDRM        0.254781  0.525849  0.208100  ...  1.000000  0.544765  0.160514\n",
              "NUMBATHS      -0.047021  0.592913  0.569808  ...  0.544765  1.000000  0.390439\n",
              "NETPRICE      -0.127704  0.534935  0.259089  ...  0.160514  0.390439  1.000000\n",
              "\n",
              "[9 rows x 9 columns]"
            ]
          },
          "metadata": {
            "tags": []
          },
          "execution_count": 35
        }
      ]
    },
    {
      "cell_type": "code",
      "metadata": {
        "id": "Mnew9F8SDY4R",
        "colab_type": "code",
        "outputId": "dbddcd84-8732-4c87-c9a3-d08551b88727",
        "colab": {
          "base_uri": "https://localhost:8080/",
          "height": 339
        }
      },
      "source": [
        "import seaborn as sn\n",
        "corrMatrix = df.corr()\n",
        "sn.heatmap(corrMatrix, annot=True)\n",
        "plt.show()"
      ],
      "execution_count": 36,
      "outputs": [
        {
          "output_type": "display_data",
          "data": {
            "image/png": "[encoded data removed]",
            "text/plain": [
              "<Figure size 432x288 with 2 Axes>"
            ]
          },
          "metadata": {
            "tags": [],
            "needs_background": "light"
          }
        }
      ]
    },
    {
      "cell_type": "code",
      "metadata": {
        "id": "XPRSYg0t9MTX",
        "colab_type": "code",
        "colab": {}
      },
      "source": [
        "#CREATE TEXT & TRAIN DATASETS\n",
        "#from sklearn.cross_validation import train_test_split\n",
        "from sklearn.model_selection import train_test_split\n",
        "feature_col_names = ['LIVEAREA','FINBSMNT','CONDITION_ADJ','NOCARS','BASEMENT','NUMBDRM','NUMBATHS'  ]\n",
        "predicted_class_names = ['NETPRICE']\n",
        "\n",
        "X = df[feature_col_names].values     # predictor feature columns (8 X m)\n",
        "y = df[predicted_class_names].values # predicted class (1=true, 0=false) column (1 X m)\n",
        "split_test_size = 0.30 # test_size = 0.3 is 30%, 42 is the answer to everything\n",
        "\n",
        "X_train, X_test, y_train, y_test = train_test_split(X, y, test_size=split_test_size, random_state=42) \n",
        "                           "
      ],
      "execution_count": 0,
      "outputs": []
    },
    {
      "cell_type": "code",
      "metadata": {
        "id": "MgOObRR39T6F",
        "colab_type": "code",
        "outputId": "7a5156f9-ac5f-4a12-c0bc-c449977931af",
        "colab": {
          "base_uri": "https://localhost:8080/",
          "height": 51
        }
      },
      "source": [
        "#How did our split go?\n",
        "print(\"{0:0.2f}% in training set\".format((len(X_train)/len(df.index)) * 100))\n",
        "print(\"{0:0.2f}% in test set\".format((len(X_test)/len(df.index)) * 100))"
      ],
      "execution_count": 45,
      "outputs": [
        {
          "output_type": "stream",
          "text": [
            "69.82% in training set\n",
            "30.18% in test set\n"
          ],
          "name": "stdout"
        }
      ]
    },
    {
      "cell_type": "code",
      "metadata": {
        "id": "-p0zewvs9V6V",
        "colab_type": "code",
        "colab": {}
      },
      "source": [
        "from sklearn.linear_model import LinearRegression\n",
        "from sklearn.metrics import mean_squared_error, r2_score"
      ],
      "execution_count": 0,
      "outputs": []
    },
    {
      "cell_type": "code",
      "metadata": {
        "id": "qFyn1EhS9kRW",
        "colab_type": "code",
        "outputId": "8badfe8f-c1fd-431d-b781-b42448e75fbb",
        "colab": {
          "base_uri": "https://localhost:8080/",
          "height": 34
        }
      },
      "source": [
        "#SETUP AND RUN OUR LINEAR REGRESSION MODEL/ALGORITHM (FIT is another word for 'create model' )\n",
        "lr_modelLR = LinearRegression()     \n",
        "lr_modelLR.fit(X_train, y_train.ravel()) "
      ],
      "execution_count": 47,
      "outputs": [
        {
          "output_type": "execute_result",
          "data": {
            "text/plain": [
              "LinearRegression(copy_X=True, fit_intercept=True, n_jobs=None, normalize=False)"
            ]
          },
          "metadata": {
            "tags": []
          },
          "execution_count": 47
        }
      ]
    },
    {
      "cell_type": "code",
      "metadata": {
        "id": "Evb51F8v9luK",
        "colab_type": "code",
        "outputId": "22648b66-b023-48d6-cb5c-ccbfe4f52c44",
        "colab": {
          "base_uri": "https://localhost:8080/",
          "height": 102
        }
      },
      "source": [
        "#SCORE OUR NEW MODEL/ALGORITHM BASED ON TRAINING DATA - LINEAR REGRESSION\n",
        "lr_predict_trainLR = lr_modelLR.predict(X_train)\n",
        "\n",
        "rmse = mean_squared_error(y_train, lr_predict_trainLR)\n",
        "r2 = r2_score(y_train, lr_predict_trainLR)\n",
        "\n",
        "\n",
        "# training metrics\n",
        "print('Slope:' ,lr_modelLR.coef_)\n",
        "print('Intercept:', lr_modelLR.intercept_)\n",
        "\n",
        "print('Root mean squared error: ', rmse)\n",
        "print('R2 score: ', r2)"
      ],
      "execution_count": 48,
      "outputs": [
        {
          "output_type": "stream",
          "text": [
            "Slope: [ 1.45966758e+02  3.67160341e+01  4.19492238e+04 -2.85137968e+02\n",
            "  2.74192221e+01 -2.47678446e+04 -1.66939870e+04]\n",
            "Intercept: 108246.19529453997\n",
            "Root mean squared error:  9468297997.37026\n",
            "R2 score:  0.3600362989744892\n"
          ],
          "name": "stdout"
        }
      ]
    },
    {
      "cell_type": "code",
      "metadata": {
        "id": "XVEUMHDT-a7Y",
        "colab_type": "code",
        "outputId": "b90f4be8-5fc5-4cae-c04e-fd86721ac8e2",
        "colab": {
          "base_uri": "https://localhost:8080/",
          "height": 136
        }
      },
      "source": [
        "#SETUP AND RUN OUR MODEL/ALGORITHM ON TEST DATA\n",
        "from sklearn.ensemble import RandomForestRegressor\n",
        "rf_modelRFTest = RandomForestRegressor(n_estimators = 100, random_state = 42)    # Instantiate model with 100 decision trees\n",
        "rf_modelRFTest.fit(X_test, y_test.ravel()) "
      ],
      "execution_count": 49,
      "outputs": [
        {
          "output_type": "execute_result",
          "data": {
            "text/plain": [
              "RandomForestRegressor(bootstrap=True, ccp_alpha=0.0, criterion='mse',\n",
              "                      max_depth=None, max_features='auto', max_leaf_nodes=None,\n",
              "                      max_samples=None, min_impurity_decrease=0.0,\n",
              "                      min_impurity_split=None, min_samples_leaf=1,\n",
              "                      min_samples_split=2, min_weight_fraction_leaf=0.0,\n",
              "                      n_estimators=100, n_jobs=None, oob_score=False,\n",
              "                      random_state=42, verbose=0, warm_start=False)"
            ]
          },
          "metadata": {
            "tags": []
          },
          "execution_count": 49
        }
      ]
    },
    {
      "cell_type": "code",
      "metadata": {
        "id": "5RgSXrw5-cY3",
        "colab_type": "code",
        "outputId": "993f6d51-72e9-4ddc-ba77-d3ff47988934",
        "colab": {
          "base_uri": "https://localhost:8080/",
          "height": 51
        }
      },
      "source": [
        "#SCORE OUR NEW MODEL/ALGORITHM BASED ON TEST DATA\n",
        "rf_predict_trainRFTest = rf_modelRFTest.predict(X_test)\n",
        "\n",
        "rmseTest = mean_squared_error(y_test, rf_predict_trainRFTest)\n",
        "r2Test = r2_score(y_test, rf_predict_trainRFTest)\n",
        "\n",
        "print('Root mean squared error: ', rmseTest)\n",
        "print('R2 score: ',r2Test)"
      ],
      "execution_count": 52,
      "outputs": [
        {
          "output_type": "stream",
          "text": [
            "Root mean squared error:  1920591172.067334\n",
            "R2 score:  0.8412503749955057\n"
          ],
          "name": "stdout"
        }
      ]
    },
    {
      "cell_type": "markdown",
      "metadata": {
        "id": "cwBNLtKO2SnQ",
        "colab_type": "text"
      },
      "source": [
        "Pretty good. <br>\n",
        "How could we improve this R2?\n",
        "\n",
        "\n",
        "\n"
      ]
    },
    {
      "cell_type": "code",
      "metadata": {
        "id": "4asZHkP4-d1W",
        "colab_type": "code",
        "colab": {}
      },
      "source": [
        ""
      ],
      "execution_count": 0,
      "outputs": []
    }
  ]
}