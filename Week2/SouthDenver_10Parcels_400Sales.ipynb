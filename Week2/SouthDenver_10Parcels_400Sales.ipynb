{
 "cells": [
  {
   "cell_type": "markdown",
   "metadata": {},
   "source": [
    "<font color='green'>\n",
    "Notice this is a markdown section, not code.\n",
    "\n",
    "Keys - Enter to move to next line.\n",
    "Shift - Enter to execute this section\n",
    "\n",
    "Shift - Tab for intellisense\n"
   ]
  },
  {
   "cell_type": "code",
   "execution_count": 2,
   "metadata": {},
   "outputs": [
    {
     "name": "stdout",
     "output_type": "stream",
     "text": [
      "test\n"
     ]
    }
   ],
   "source": [
    "print('test')"
   ]
  },
  {
   "cell_type": "code",
   "execution_count": 3,
   "metadata": {},
   "outputs": [],
   "source": [
    "import pandas as pd                 # pandas is a dataframe library\n",
    "import matplotlib.pyplot as plt      # matplotlib.pyplot plots data\n",
    "import os\n",
    "\n",
    "%matplotlib inline"
   ]
  },
  {
   "cell_type": "code",
   "execution_count": 4,
   "metadata": {},
   "outputs": [],
   "source": [
    "#read in CSV File \n",
    "#df = pd.read_csv(\"./SouthDenver_10Parcels_400Sales.csv\")\n",
    "df = pd.read_csv(\"./SalesBook2013_2-10-20NBHD_71.csv\")\n"
   ]
  },
  {
   "cell_type": "code",
   "execution_count": 5,
   "metadata": {},
   "outputs": [
    {
     "data": {
      "text/plain": [
       "(285, 12)"
      ]
     },
     "execution_count": 5,
     "metadata": {},
     "output_type": "execute_result"
    }
   ],
   "source": [
    "df.shape"
   ]
  },
  {
   "cell_type": "code",
   "execution_count": 6,
   "metadata": {},
   "outputs": [
    {
     "data": {
      "text/html": [
       "<div>\n",
       "<style scoped>\n",
       "    .dataframe tbody tr th:only-of-type {\n",
       "        vertical-align: middle;\n",
       "    }\n",
       "\n",
       "    .dataframe tbody tr th {\n",
       "        vertical-align: top;\n",
       "    }\n",
       "\n",
       "    .dataframe thead th {\n",
       "        text-align: right;\n",
       "    }\n",
       "</style>\n",
       "<table border=\"1\" class=\"dataframe\">\n",
       "  <thead>\n",
       "    <tr style=\"text-align: right;\">\n",
       "      <th></th>\n",
       "      <th>NBHD</th>\n",
       "      <th>LIVEAREA</th>\n",
       "      <th>FINBSMNT</th>\n",
       "      <th>BASEMENT</th>\n",
       "      <th>CONDITION</th>\n",
       "      <th>CONDITION_ADJ</th>\n",
       "      <th>QUALITY_ADJ</th>\n",
       "      <th>QUALITY</th>\n",
       "      <th>NOCARS</th>\n",
       "      <th>NUMBDRM</th>\n",
       "      <th>NUMBATHS</th>\n",
       "      <th>NETPRICE</th>\n",
       "    </tr>\n",
       "  </thead>\n",
       "  <tbody>\n",
       "    <tr>\n",
       "      <td>0</td>\n",
       "      <td>715</td>\n",
       "      <td>2558</td>\n",
       "      <td>0</td>\n",
       "      <td>0</td>\n",
       "      <td>Good</td>\n",
       "      <td>1</td>\n",
       "      <td>1</td>\n",
       "      <td>B</td>\n",
       "      <td>0</td>\n",
       "      <td>2</td>\n",
       "      <td>3</td>\n",
       "      <td>1025000</td>\n",
       "    </tr>\n",
       "    <tr>\n",
       "      <td>1</td>\n",
       "      <td>711</td>\n",
       "      <td>3176</td>\n",
       "      <td>250</td>\n",
       "      <td>313</td>\n",
       "      <td>Good</td>\n",
       "      <td>1</td>\n",
       "      <td>1</td>\n",
       "      <td>B</td>\n",
       "      <td>5</td>\n",
       "      <td>4</td>\n",
       "      <td>3</td>\n",
       "      <td>852000</td>\n",
       "    </tr>\n",
       "    <tr>\n",
       "      <td>2</td>\n",
       "      <td>712</td>\n",
       "      <td>3179</td>\n",
       "      <td>1474</td>\n",
       "      <td>1972</td>\n",
       "      <td>AVG</td>\n",
       "      <td>0</td>\n",
       "      <td>1</td>\n",
       "      <td>B</td>\n",
       "      <td>2</td>\n",
       "      <td>4</td>\n",
       "      <td>4</td>\n",
       "      <td>730611</td>\n",
       "    </tr>\n",
       "    <tr>\n",
       "      <td>3</td>\n",
       "      <td>713</td>\n",
       "      <td>2291</td>\n",
       "      <td>2176</td>\n",
       "      <td>2291</td>\n",
       "      <td>Good</td>\n",
       "      <td>1</td>\n",
       "      <td>1</td>\n",
       "      <td>B</td>\n",
       "      <td>2</td>\n",
       "      <td>2</td>\n",
       "      <td>3</td>\n",
       "      <td>675000</td>\n",
       "    </tr>\n",
       "    <tr>\n",
       "      <td>4</td>\n",
       "      <td>713</td>\n",
       "      <td>2740</td>\n",
       "      <td>1020</td>\n",
       "      <td>1396</td>\n",
       "      <td>Good</td>\n",
       "      <td>1</td>\n",
       "      <td>1</td>\n",
       "      <td>B</td>\n",
       "      <td>2</td>\n",
       "      <td>3</td>\n",
       "      <td>4</td>\n",
       "      <td>655000</td>\n",
       "    </tr>\n",
       "  </tbody>\n",
       "</table>\n",
       "</div>"
      ],
      "text/plain": [
       "   NBHD  LIVEAREA  FINBSMNT  BASEMENT CONDITION  CONDITION_ADJ  QUALITY_ADJ  \\\n",
       "0   715      2558         0         0      Good              1            1   \n",
       "1   711      3176       250       313      Good              1            1   \n",
       "2   712      3179      1474      1972       AVG              0            1   \n",
       "3   713      2291      2176      2291      Good              1            1   \n",
       "4   713      2740      1020      1396      Good              1            1   \n",
       "\n",
       "  QUALITY  NOCARS  NUMBDRM  NUMBATHS  NETPRICE  \n",
       "0       B       0        2         3   1025000  \n",
       "1       B       5        4         3    852000  \n",
       "2       B       2        4         4    730611  \n",
       "3       B       2        2         3    675000  \n",
       "4       B       2        3         4    655000  "
      ]
     },
     "execution_count": 6,
     "metadata": {},
     "output_type": "execute_result"
    }
   ],
   "source": [
    "df.head(5)"
   ]
  },
  {
   "cell_type": "markdown",
   "metadata": {},
   "source": [
    "<font color='green'>Cheated here.. I did find a null falue.. stole someone else's code"
   ]
  },
  {
   "cell_type": "code",
   "execution_count": 7,
   "metadata": {},
   "outputs": [
    {
     "data": {
      "text/plain": [
       "NBHD             False\n",
       "LIVEAREA         False\n",
       "FINBSMNT         False\n",
       "BASEMENT         False\n",
       "CONDITION        False\n",
       "CONDITION_ADJ    False\n",
       "QUALITY_ADJ      False\n",
       "QUALITY          False\n",
       "NOCARS           False\n",
       "NUMBDRM          False\n",
       "NUMBATHS         False\n",
       "NETPRICE         False\n",
       "dtype: bool"
      ]
     },
     "execution_count": 7,
     "metadata": {},
     "output_type": "execute_result"
    }
   ],
   "source": [
    "df.isnull().any()"
   ]
  },
  {
   "cell_type": "code",
   "execution_count": 8,
   "metadata": {},
   "outputs": [],
   "source": [
    "def plot_corr(df, size=10):\n",
    "    \"\"\"\n",
    "    Function plots a graphical correlation matrix for each pair of columns in the dataframe.\n",
    "\n",
    "    Input:\n",
    "        df: pandas DataFrame\n",
    "        size: vertical and horizontal size of the plot\n",
    "\n",
    "    Displays:\n",
    "        matrix of correlation between columns.  Blue-cyan-yellow-red-darkred => less to more correlated\n",
    "                                                0 ------------------>  1\n",
    "                                                Expect a darkred line running from top left to bottom right\n",
    "    \"\"\"\n",
    "\n",
    "    corr = df.corr()    # data frame correlation function\n",
    "    fig, ax = plt.subplots(figsize=(size, size))\n",
    "    ax.matshow(corr)   # color code the rectangles by correlation value\n",
    "    plt.xticks(range(len(corr.columns)), corr.columns)  # draw x tick marks\n",
    "    plt.yticks(range(len(corr.columns)), corr.columns)  # draw y tick marks"
   ]
  },
  {
   "cell_type": "code",
   "execution_count": 9,
   "metadata": {},
   "outputs": [
    {
     "data": {
      "image/png": "[encoded data removed]",
      "text/plain": [
       "<Figure size 720x720 with 1 Axes>"
      ]
     },
     "metadata": {
      "needs_background": "light"
     },
     "output_type": "display_data"
    }
   ],
   "source": [
    "plot_corr(df)"
   ]
  },
  {
   "cell_type": "code",
   "execution_count": 10,
   "metadata": {},
   "outputs": [
    {
     "data": {
      "text/html": [
       "<div>\n",
       "<style scoped>\n",
       "    .dataframe tbody tr th:only-of-type {\n",
       "        vertical-align: middle;\n",
       "    }\n",
       "\n",
       "    .dataframe tbody tr th {\n",
       "        vertical-align: top;\n",
       "    }\n",
       "\n",
       "    .dataframe thead th {\n",
       "        text-align: right;\n",
       "    }\n",
       "</style>\n",
       "<table border=\"1\" class=\"dataframe\">\n",
       "  <thead>\n",
       "    <tr style=\"text-align: right;\">\n",
       "      <th></th>\n",
       "      <th>NBHD</th>\n",
       "      <th>LIVEAREA</th>\n",
       "      <th>FINBSMNT</th>\n",
       "      <th>BASEMENT</th>\n",
       "      <th>CONDITION_ADJ</th>\n",
       "      <th>QUALITY_ADJ</th>\n",
       "      <th>NOCARS</th>\n",
       "      <th>NUMBDRM</th>\n",
       "      <th>NUMBATHS</th>\n",
       "      <th>NETPRICE</th>\n",
       "    </tr>\n",
       "  </thead>\n",
       "  <tbody>\n",
       "    <tr>\n",
       "      <td>NBHD</td>\n",
       "      <td>1.000000</td>\n",
       "      <td>0.061472</td>\n",
       "      <td>-0.211152</td>\n",
       "      <td>-0.296919</td>\n",
       "      <td>-0.086730</td>\n",
       "      <td>0.234183</td>\n",
       "      <td>0.004377</td>\n",
       "      <td>0.254781</td>\n",
       "      <td>-0.047021</td>\n",
       "      <td>-0.127704</td>\n",
       "    </tr>\n",
       "    <tr>\n",
       "      <td>LIVEAREA</td>\n",
       "      <td>0.061472</td>\n",
       "      <td>1.000000</td>\n",
       "      <td>0.072939</td>\n",
       "      <td>0.231224</td>\n",
       "      <td>0.216803</td>\n",
       "      <td>0.309131</td>\n",
       "      <td>0.350102</td>\n",
       "      <td>0.525849</td>\n",
       "      <td>0.592913</td>\n",
       "      <td>0.534935</td>\n",
       "    </tr>\n",
       "    <tr>\n",
       "      <td>FINBSMNT</td>\n",
       "      <td>-0.211152</td>\n",
       "      <td>0.072939</td>\n",
       "      <td>1.000000</td>\n",
       "      <td>0.755823</td>\n",
       "      <td>0.157817</td>\n",
       "      <td>-0.328384</td>\n",
       "      <td>0.482032</td>\n",
       "      <td>0.208100</td>\n",
       "      <td>0.569808</td>\n",
       "      <td>0.259089</td>\n",
       "    </tr>\n",
       "    <tr>\n",
       "      <td>BASEMENT</td>\n",
       "      <td>-0.296919</td>\n",
       "      <td>0.231224</td>\n",
       "      <td>0.755823</td>\n",
       "      <td>1.000000</td>\n",
       "      <td>0.034549</td>\n",
       "      <td>-0.243800</td>\n",
       "      <td>0.666091</td>\n",
       "      <td>0.306972</td>\n",
       "      <td>0.571467</td>\n",
       "      <td>0.315914</td>\n",
       "    </tr>\n",
       "    <tr>\n",
       "      <td>CONDITION_ADJ</td>\n",
       "      <td>-0.086730</td>\n",
       "      <td>0.216803</td>\n",
       "      <td>0.157817</td>\n",
       "      <td>0.034549</td>\n",
       "      <td>1.000000</td>\n",
       "      <td>-0.050479</td>\n",
       "      <td>0.049501</td>\n",
       "      <td>0.039391</td>\n",
       "      <td>0.191101</td>\n",
       "      <td>0.282759</td>\n",
       "    </tr>\n",
       "    <tr>\n",
       "      <td>QUALITY_ADJ</td>\n",
       "      <td>0.234183</td>\n",
       "      <td>0.309131</td>\n",
       "      <td>-0.328384</td>\n",
       "      <td>-0.243800</td>\n",
       "      <td>-0.050479</td>\n",
       "      <td>1.000000</td>\n",
       "      <td>-0.122634</td>\n",
       "      <td>-0.076705</td>\n",
       "      <td>0.019627</td>\n",
       "      <td>0.210970</td>\n",
       "    </tr>\n",
       "    <tr>\n",
       "      <td>NOCARS</td>\n",
       "      <td>0.004377</td>\n",
       "      <td>0.350102</td>\n",
       "      <td>0.482032</td>\n",
       "      <td>0.666091</td>\n",
       "      <td>0.049501</td>\n",
       "      <td>-0.122634</td>\n",
       "      <td>1.000000</td>\n",
       "      <td>0.643159</td>\n",
       "      <td>0.610915</td>\n",
       "      <td>0.218027</td>\n",
       "    </tr>\n",
       "    <tr>\n",
       "      <td>NUMBDRM</td>\n",
       "      <td>0.254781</td>\n",
       "      <td>0.525849</td>\n",
       "      <td>0.208100</td>\n",
       "      <td>0.306972</td>\n",
       "      <td>0.039391</td>\n",
       "      <td>-0.076705</td>\n",
       "      <td>0.643159</td>\n",
       "      <td>1.000000</td>\n",
       "      <td>0.544765</td>\n",
       "      <td>0.160514</td>\n",
       "    </tr>\n",
       "    <tr>\n",
       "      <td>NUMBATHS</td>\n",
       "      <td>-0.047021</td>\n",
       "      <td>0.592913</td>\n",
       "      <td>0.569808</td>\n",
       "      <td>0.571467</td>\n",
       "      <td>0.191101</td>\n",
       "      <td>0.019627</td>\n",
       "      <td>0.610915</td>\n",
       "      <td>0.544765</td>\n",
       "      <td>1.000000</td>\n",
       "      <td>0.390439</td>\n",
       "    </tr>\n",
       "    <tr>\n",
       "      <td>NETPRICE</td>\n",
       "      <td>-0.127704</td>\n",
       "      <td>0.534935</td>\n",
       "      <td>0.259089</td>\n",
       "      <td>0.315914</td>\n",
       "      <td>0.282759</td>\n",
       "      <td>0.210970</td>\n",
       "      <td>0.218027</td>\n",
       "      <td>0.160514</td>\n",
       "      <td>0.390439</td>\n",
       "      <td>1.000000</td>\n",
       "    </tr>\n",
       "  </tbody>\n",
       "</table>\n",
       "</div>"
      ],
      "text/plain": [
       "                   NBHD  LIVEAREA  FINBSMNT  BASEMENT  CONDITION_ADJ  \\\n",
       "NBHD           1.000000  0.061472 -0.211152 -0.296919      -0.086730   \n",
       "LIVEAREA       0.061472  1.000000  0.072939  0.231224       0.216803   \n",
       "FINBSMNT      -0.211152  0.072939  1.000000  0.755823       0.157817   \n",
       "BASEMENT      -0.296919  0.231224  0.755823  1.000000       0.034549   \n",
       "CONDITION_ADJ -0.086730  0.216803  0.157817  0.034549       1.000000   \n",
       "QUALITY_ADJ    0.234183  0.309131 -0.328384 -0.243800      -0.050479   \n",
       "NOCARS         0.004377  0.350102  0.482032  0.666091       0.049501   \n",
       "NUMBDRM        0.254781  0.525849  0.208100  0.306972       0.039391   \n",
       "NUMBATHS      -0.047021  0.592913  0.569808  0.571467       0.191101   \n",
       "NETPRICE      -0.127704  0.534935  0.259089  0.315914       0.282759   \n",
       "\n",
       "               QUALITY_ADJ    NOCARS   NUMBDRM  NUMBATHS  NETPRICE  \n",
       "NBHD              0.234183  0.004377  0.254781 -0.047021 -0.127704  \n",
       "LIVEAREA          0.309131  0.350102  0.525849  0.592913  0.534935  \n",
       "FINBSMNT         -0.328384  0.482032  0.208100  0.569808  0.259089  \n",
       "BASEMENT         -0.243800  0.666091  0.306972  0.571467  0.315914  \n",
       "CONDITION_ADJ    -0.050479  0.049501  0.039391  0.191101  0.282759  \n",
       "QUALITY_ADJ       1.000000 -0.122634 -0.076705  0.019627  0.210970  \n",
       "NOCARS           -0.122634  1.000000  0.643159  0.610915  0.218027  \n",
       "NUMBDRM          -0.076705  0.643159  1.000000  0.544765  0.160514  \n",
       "NUMBATHS          0.019627  0.610915  0.544765  1.000000  0.390439  \n",
       "NETPRICE          0.210970  0.218027  0.160514  0.390439  1.000000  "
      ]
     },
     "execution_count": 10,
     "metadata": {},
     "output_type": "execute_result"
    }
   ],
   "source": [
    "df.corr()"
   ]
  },
  {
   "cell_type": "markdown",
   "metadata": {},
   "source": [
    "<font color='green'>had to remove date, type was confusing.. shouldn't really be used anyway"
   ]
  },
  {
   "cell_type": "code",
   "execution_count": 20,
   "metadata": {},
   "outputs": [],
   "source": [
    "#from sklearn.cross_validation import train_test_split\n",
    "from sklearn.model_selection import train_test_split\n",
    "feature_col_names = ['LIVEAREA','FINBSMNT','BASEMENT','NUMBDRM','NUMBATHS' ,'CONDITION_ADJ', 'QUALITY_ADJ','NOCARS']\n",
    "predicted_class_names = ['NETPRICE']\n",
    "\n",
    "X = df[feature_col_names].values     # predictor feature columns (8 X m)\n",
    "y = df[predicted_class_names].values # predicted class (1=true, 0=false) column (1 X m)\n",
    "split_test_size = 0.30\n",
    "\n",
    "X_train, X_test, y_train, y_test = train_test_split(X, y, test_size=split_test_size, random_state=42) \n",
    "                            # test_size = 0.3 is 30%, 42 is the answer to everything"
   ]
  },
  {
   "cell_type": "code",
   "execution_count": 21,
   "metadata": {},
   "outputs": [
    {
     "name": "stdout",
     "output_type": "stream",
     "text": [
      "69.82% in training set\n",
      "30.18% in test set\n"
     ]
    }
   ],
   "source": [
    "print(\"{0:0.2f}% in training set\".format((len(X_train)/len(df.index)) * 100))\n",
    "print(\"{0:0.2f}% in test set\".format((len(X_test)/len(df.index)) * 100))"
   ]
  },
  {
   "cell_type": "code",
   "execution_count": 22,
   "metadata": {},
   "outputs": [],
   "source": [
    "from sklearn.linear_model import LinearRegression\n",
    "from sklearn.metrics import mean_squared_error, r2_score"
   ]
  },
  {
   "cell_type": "code",
   "execution_count": 23,
   "metadata": {},
   "outputs": [
    {
     "data": {
      "text/plain": [
       "LinearRegression(copy_X=True, fit_intercept=True, n_jobs=None, normalize=False)"
      ]
     },
     "execution_count": 23,
     "metadata": {},
     "output_type": "execute_result"
    }
   ],
   "source": [
    "rf_modelLR = LinearRegression()      # Create random forest object\n",
    "rf_modelLR.fit(X_train, y_train.ravel()) "
   ]
  },
  {
   "cell_type": "code",
   "execution_count": 24,
   "metadata": {},
   "outputs": [
    {
     "name": "stdout",
     "output_type": "stream",
     "text": [
      "Slope: [ 1.30006882e+02  3.84476886e+01  3.49723438e+01 -1.83918558e+04\n",
      " -1.79868688e+04  4.71555581e+04  4.27286183e+04 -1.31167715e+03]\n",
      "Intercept: 82789.34839244606\n",
      "Root mean squared error:  9330811583.44573\n",
      "R2 score:  0.36932902659251565\n"
     ]
    }
   ],
   "source": [
    "rf_predict_trainLR = rf_modelLR.predict(X_train)\n",
    "\n",
    "rmse = mean_squared_error(y_train, rf_predict_trainLR)\n",
    "r2 = r2_score(y_train, rf_predict_trainLR)\n",
    "\n",
    "\n",
    "# training metrics\n",
    "print('Slope:' ,rf_modelLR.coef_)\n",
    "print('Intercept:', rf_modelLR.intercept_)\n",
    "\n",
    "print('Root mean squared error: ', rmse)\n",
    "print('R2 score: ', r2)"
   ]
  },
  {
   "cell_type": "code",
   "execution_count": 25,
   "metadata": {},
   "outputs": [
    {
     "data": {
      "text/plain": [
       "LinearRegression(copy_X=True, fit_intercept=True, n_jobs=None, normalize=False)"
      ]
     },
     "execution_count": 25,
     "metadata": {},
     "output_type": "execute_result"
    }
   ],
   "source": [
    "rf_modelLRTest = LinearRegression()      # Create random forest object\n",
    "rf_modelLRTest.fit(X_test, y_test.ravel()) "
   ]
  },
  {
   "cell_type": "code",
   "execution_count": 26,
   "metadata": {},
   "outputs": [
    {
     "name": "stdout",
     "output_type": "stream",
     "text": [
      "Slope: [ 9.17967797e+01  4.81198691e+01  4.63984758e+01 -1.71018932e+04\n",
      "  1.05381471e+04  5.01409535e+04  6.02591756e+04 -1.22150664e+04]\n",
      "Intercept: 64337.003381224524\n",
      "Root mean squared error:  5428702098.566381\n",
      "R2 score:  0.551281691313371\n"
     ]
    }
   ],
   "source": [
    "rf_predict_trainLRTest = rf_modelLRTest.predict(X_test)\n",
    "\n",
    "rmseTest = mean_squared_error(y_test, rf_predict_trainLRTest)\n",
    "r2Test = r2_score(y_test, rf_predict_trainLRTest)\n",
    "\n",
    "\n",
    "# training metrics\n",
    "print('Slope:' ,rf_modelLRTest.coef_)\n",
    "print('Intercept:', rf_modelLRTest.intercept_)\n",
    "\n",
    "print('Root mean squared error: ', rmseTest)\n",
    "print('R2 score: ',r2Test)"
   ]
  },
  {
   "cell_type": "code",
   "execution_count": null,
   "metadata": {},
   "outputs": [],
   "source": []
  },
  {
   "cell_type": "code",
   "execution_count": null,
   "metadata": {},
   "outputs": [],
   "source": []
  }
 ],
 "metadata": {
  "kernelspec": {
   "display_name": "Python 3",
   "language": "python",
   "name": "python3"
  },
  "language_info": {
   "codemirror_mode": {
    "name": "ipython",
    "version": 3
   },
   "file_extension": ".py",
   "mimetype": "text/x-python",
   "name": "python",
   "nbconvert_exporter": "python",
   "pygments_lexer": "ipython3",
   "version": "3.7.4"
  }
 },
 "nbformat": 4,
 "nbformat_minor": 2
}
